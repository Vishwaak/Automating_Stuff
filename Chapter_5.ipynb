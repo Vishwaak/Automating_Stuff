{
 "cells": [
  {
   "cell_type": "code",
   "execution_count": null,
   "metadata": {},
   "outputs": [],
   "source": [
    "#Baisc implementation of Tic Tac Toe using Dictionaries\n",
    "#Board is created\n",
    "theBoard = {'top-L': ' ', 'top-M': ' ', 'top-R': ' ', 'mid-L': ' ', 'mid-M': '', 'mid-R': ' ', 'low-L': ' ', 'low-M': ' ', 'low-R': ' '}\n",
    "\n",
    "def printBoard(board):\n",
    "    print(board['top-L'] + '|' + board['top-M'] + '|' + board['top-R']) #print the board\n",
    "    print('-+-+-')\n",
    "    print(board['mid-L'] + '|' + board['mid-M'] + '|' + board['mid-R'])\n",
    "    print('-+-+-')\n",
    "    print(board['low-L'] + '|' + board['low-M'] + '|' + board['low-R'])\n",
    "turn = 'X'\n",
    "for i in range(9): \n",
    "        printBoard(theBoard)\n",
    "        print('Turn for ' + turn + '. Move on which space?')\n",
    "        move = input()  #input from user\n",
    "        theBoard[move] = turn\n",
    "        if turn == 'X':\n",
    "            turn = 'O'\n",
    "        else:\n",
    "            turn = 'X'\n",
    "printBoard(theBoard) #prints the Final state of the Board.\n",
    "            "
   ]
  },
  {
   "cell_type": "code",
   "execution_count": 11,
   "metadata": {},
   "outputs": [
    {
     "name": "stdout",
     "output_type": "stream",
     "text": [
      "Inventory:\n",
      "1 rope\n",
      "6 torch\n",
      "45 gold coin\n",
      "2 dagger\n",
      "12 arrow\n",
      "1 ruby\n",
      "Total number of items: 67\n"
     ]
    }
   ],
   "source": [
    "# Game two Fantasy Game implementation\n",
    "stuff = {'rope': 1, 'torch': 6, 'gold coin': 42, 'dagger': 1, 'arrow': 12}\n",
    "\n",
    "def displayInventory(inventory):\n",
    "    print(\"Inventory:\")\n",
    "    item_total = 0\n",
    "    for k, v in inventory.items():\n",
    "            print(str(v) + \" \", end =\"\")\n",
    "            print(k)\n",
    "            item_total = int(v) + int(item_total)\n",
    "    print(\"Total number of items: \" + str(item_total))\n",
    "    \n",
    "def addToInventory(inventory, addedItems):\n",
    "    for i in addedItems:\n",
    "        if i in inventory:\n",
    "            inventory[i] += 1\n",
    "        else:\n",
    "            inventory[i] = 1\n",
    "    return inventory\n",
    "\n",
    "dragonLoot = ['gold coin', 'dagger', 'gold coin', 'gold coin', 'ruby']\n",
    "inv = addToInventory(stuff, dragonLoot)\n",
    "displayInventory(inv)"
   ]
  }
 ],
 "metadata": {
  "kernelspec": {
   "display_name": "Python 3",
   "language": "python",
   "name": "python3"
  },
  "language_info": {
   "codemirror_mode": {
    "name": "ipython",
    "version": 3
   },
   "file_extension": ".py",
   "mimetype": "text/x-python",
   "name": "python",
   "nbconvert_exporter": "python",
   "pygments_lexer": "ipython3",
   "version": "3.7.1"
  }
 },
 "nbformat": 4,
 "nbformat_minor": 2
}
