{
 "cells": [
  {
   "cell_type": "code",
   "execution_count": 6,
   "metadata": {},
   "outputs": [
    {
     "name": "stdout",
     "output_type": "stream",
     "text": [
      "Phone number found: 415-555-4242\n"
     ]
    },
    {
     "data": {
      "text/plain": [
       "'415'"
      ]
     },
     "execution_count": 6,
     "metadata": {},
     "output_type": "execute_result"
    }
   ],
   "source": [
    "import re\n",
    "phoneNumRegex = re.compile(r'(\\d\\d\\d)-(\\d\\d\\d)-(\\d\\d\\d\\d)')\n",
    "mo = phoneNumRegex.search('My number is 415-555-4242.')\n",
    "print('Phone number found: ' + mo.group())"
   ]
  },
  {
   "cell_type": "code",
   "execution_count": 2,
   "metadata": {},
   "outputs": [
    {
     "name": "stdout",
     "output_type": "stream",
     "text": [
      "No phone numbers or email addresses found.\n"
     ]
    }
   ],
   "source": [
    "import pyperclip, re\n",
    "phoneregx = re.compile(r'''((\\d{3}|\\(\\d{3}\\))?  (\\s|-|\\.)? (\\d{3}) (\\s|-|\\.) (\\d{4}) (\\s*(ext|x|ext.)\\s*(\\d{2,5}))? )''', re.VERBOSE)\n",
    "emailRegex = re.compile(r'''([a-zA-Z0-9._%+-]+ @  [a-zA-Z0-9.-]+ (\\.[a-zA-Z]{2,4})  )''', re.VERBOSE)\n",
    "text = str(pyperclip.paste())\n",
    "matches = []\n",
    "for groups in phoneregx.findall(text):\n",
    "    phoneNum = '-'.join([groups[1], groups[3], groups[5]])\n",
    "    if groups[8] != '':\n",
    "        phoneNum += ' x' + groups[8]\n",
    "        matches.append(phoneNum)\n",
    "for groups in emailRegex.findall(text):\n",
    "       matches.append(groups[0])\n",
    "if len(matches) > 0:\n",
    "    pyperclip.copy('\\n'.join(matches))\n",
    "    print('Copied to clipboard:')\n",
    "    print('\\n'.join(matches))\n",
    "else:\n",
    "    print('No phone numbers or email addresses found.')"
   ]
  },
  {
   "cell_type": "code",
   "execution_count": 7,
   "metadata": {},
   "outputs": [
    {
     "name": "stdout",
     "output_type": "stream",
     "text": [
      "Nothing Found\n"
     ]
    }
   ],
   "source": [
    "urlclassifier = re.compile('http[s]?://(?:[a-zA-Z]|[0-9]|[$-_@.&+] |[!*\\(\\), ]|(?:%[0-9a-fA-F][0-9a-fA-F]))+', re.VERBOSE) \n",
    "text2 = str(pyperclip.paste())\n",
    "result = urlclassifier.search(text2)\n",
    "if (result):\n",
    "    print(result.group(0))\n",
    "else:\n",
    "    print(\"Nothing Found\")"
   ]
  },
  {
   "cell_type": "code",
   "execution_count": 10,
   "metadata": {},
   "outputs": [
    {
     "name": "stdout",
     "output_type": "stream",
     "text": [
      "<re.Match object; span=(5, 6), match=' '>\n",
      " \n"
     ]
    }
   ],
   "source": [
    "\n",
    "password_checker = re.compile('[a-zA-Z] & [$-_@.&+] & [0-9] & |[!*\\(\\), ]' ,re.VERBOSE)\n",
    "text2 = str(pyperclip.paste())\n",
    "result = password_checker.search(text2)\n",
    "print(result)\n",
    "if (result):\n",
    "    print(result.group(0))\n",
    "else:\n",
    "    print(\"Password Not Strong\")"
   ]
  },
  {
   "cell_type": "code",
   "execution_count": null,
   "metadata": {},
   "outputs": [],
   "source": []
  },
  {
   "cell_type": "code",
   "execution_count": null,
   "metadata": {},
   "outputs": [],
   "source": []
  },
  {
   "cell_type": "code",
   "execution_count": null,
   "metadata": {},
   "outputs": [],
   "source": []
  }
 ],
 "metadata": {
  "kernelspec": {
   "display_name": "Python 3",
   "language": "python",
   "name": "python3"
  },
  "language_info": {
   "codemirror_mode": {
    "name": "ipython",
    "version": 3
   },
   "file_extension": ".py",
   "mimetype": "text/x-python",
   "name": "python",
   "nbconvert_exporter": "python",
   "pygments_lexer": "ipython3",
   "version": "3.7.1"
  }
 },
 "nbformat": 4,
 "nbformat_minor": 2
}
