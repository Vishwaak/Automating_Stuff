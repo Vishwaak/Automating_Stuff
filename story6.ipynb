{
 "cells": [
  {
   "cell_type": "code",
   "execution_count": 5,
   "metadata": {},
   "outputs": [
    {
     "name": "stdout",
     "output_type": "stream",
     "text": [
      "Googling...\n"
     ]
    }
   ],
   "source": [
    "import requests, sys, webbrowser, bs4\n",
    "\n",
    "print('Googling...') \n",
    "res = requests.get('http://google.com/search?q=' + ' '.join(sys.argv[1:]))\n",
    "res.raise_for_status()\n",
    "soup = bs4.BeautifulSoup(res.text)\n",
    "linkElems = soup.select('.r a')\n",
    "numOpen = min(5, len(linkElems))\n",
    "for i in range(numOpen):\n",
    "    webbrowser.open('http://google.com' + linkElems[i].get('href'))"
   ]
  },
  {
   "cell_type": "code",
   "execution_count": null,
   "metadata": {},
   "outputs": [
    {
     "name": "stdout",
     "output_type": "stream",
     "text": [
      "Downloading page http://xkcd.com...\n",
      "Downloading image http://imgs.xkcd.com/comics/ui_vs_ux.png...\n",
      "Downloading page http://xkcd.com/2140/...\n",
      "Downloading image http://imgs.xkcd.com/comics/reinvent_the_wheel.png...\n",
      "Downloading page http://xkcd.com/2139/...\n",
      "Downloading image http://imgs.xkcd.com/comics/email_settings.png...\n",
      "Downloading page http://xkcd.com/2138/...\n",
      "Downloading image http://imgs.xkcd.com/comics/wanna_see_the_code.png...\n",
      "Downloading page http://xkcd.com/2137/...\n",
      "Downloading image http://imgs.xkcd.com/comics/text_entry.png...\n",
      "Downloading page http://xkcd.com/2136/...\n"
     ]
    }
   ],
   "source": [
    "#! python3\n",
    "# downloadXkcd.py - Downloads every single XKCD comic.\n",
    "\n",
    "import requests, os, bs4\n",
    "url = 'http://xkcd.com'              \n",
    "os.makedirs('xkcd', exist_ok=True)   \n",
    "while not url.endswith('#'):\n",
    "    print('Downloading page %s...' % url)\n",
    "    res = requests.get(url)\n",
    "    res.raise_for_status()\n",
    "    soup = bs4.BeautifulSoup(res.text)\n",
    "    comicElem = soup.select('#comic img')\n",
    "    if comicElem == []:\n",
    "         print('Could not find comic image.')\n",
    "    else:\n",
    "        try:\n",
    "            comicUrl = 'http:' + comicElem[0].get('src')\n",
    "            print('Downloading image %s...' % (comicUrl))\n",
    "            res = requests.get(comicUrl)\n",
    "            res.raise_for_status()\n",
    "        except requests.exceptions.MissingSchema:\n",
    "            prevLink = soup.select('a[rel=\"prev\"]')[0]\n",
    "            url = 'http://xkcd.com' + prevLink.get('href')\n",
    "            continue    \n",
    "    prevLink = soup.select('a[rel=\"prev\"]')[0]\n",
    "    url = 'http://xkcd.com' + prevLink.get('href')\n",
    "    prevLink = soup.select('a[rel=\"prev\"]')[0]\n",
    "    url = 'http://xkcd.com' + prevLink.get('href')\n",
    "print('Done.')"
   ]
  },
  {
   "cell_type": "code",
   "execution_count": null,
   "metadata": {},
   "outputs": [],
   "source": []
  },
  {
   "cell_type": "code",
   "execution_count": null,
   "metadata": {},
   "outputs": [],
   "source": []
  }
 ],
 "metadata": {
  "kernelspec": {
   "display_name": "Python 3",
   "language": "python",
   "name": "python3"
  },
  "language_info": {
   "codemirror_mode": {
    "name": "ipython",
    "version": 3
   },
   "file_extension": ".py",
   "mimetype": "text/x-python",
   "name": "python",
   "nbconvert_exporter": "python",
   "pygments_lexer": "ipython3",
   "version": "3.7.1"
  }
 },
 "nbformat": 4,
 "nbformat_minor": 2
}
