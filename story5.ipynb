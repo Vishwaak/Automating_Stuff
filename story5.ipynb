{
 "cells": [
  {
   "cell_type": "code",
   "execution_count": 1,
   "metadata": {},
   "outputs": [
    {
     "data": {
      "text/plain": [
       "'/home/xerous/Desktop/Automating_Stuff'"
      ]
     },
     "execution_count": 1,
     "metadata": {},
     "output_type": "execute_result"
    }
   ],
   "source": [
    "import os\n",
    "os.getcwd()"
   ]
  },
  {
   "cell_type": "code",
   "execution_count": 4,
   "metadata": {},
   "outputs": [],
   "source": [
    "import shelve , pyperclip , sys\n",
    "mcbopen  = shelve.open('mcb')\n",
    "if len(sys.argv) == 3 and sys.argv[1].lower() == 'save':\n",
    "    mcbcopen[sys.argv[2]] = pyperclip.paste()\n",
    "elif len(sys.argv) == 2:\n",
    "    if sys.argv[1].lower() == 'list':\n",
    "        pyperclip.copy(str(list(mcbopen.keys())))\n",
    "    elif sys.argv[1] in mcbopen:\n",
    "        pyperclip.copy(mcbopen[sys.argv[1]])\n",
    "mcbopen.close()"
   ]
  },
  {
   "cell_type": "code",
   "execution_count": 7,
   "metadata": {},
   "outputs": [],
   "source": [
    "#Quiz Genarator\n",
    "import random\n",
    "capitals = {'Alabama': 'Montgomery', 'Alaska': 'Juneau', 'Arizona': 'Phoenix',\n",
    "   'Arkansas': 'Little Rock', 'California': 'Sacramento', 'Colorado': 'Denver',\n",
    "   'Connecticut': 'Hartford', 'Delaware': 'Dover', 'Florida': 'Tallahassee',\n",
    "   'Georgia': 'Atlanta', 'Hawaii': 'Honolulu', 'Idaho': 'Boise', 'Illinois':\n",
    "   'Springfield', 'Indiana': 'Indianapolis', 'Iowa': 'Des Moines', 'Kansas':\n",
    "   'Topeka', 'Kentucky': 'Frankfort', 'Louisiana': 'Baton Rouge', 'Maine':\n",
    "   'Augusta', 'Maryland': 'Annapolis', 'Massachusetts': 'Boston', 'Michigan':\n",
    "   'Lansing', 'Minnesota': 'Saint Paul', 'Mississippi': 'Jackson', 'Missouri':\n",
    "   'Jefferson City', 'Montana': 'Helena', 'Nebraska': 'Lincoln', 'Nevada':\n",
    "   'Carson City', 'New Hampshire': 'Concord', 'New Jersey': 'Trenton', 'NewMexico': 'Santa Fe', 'New York': 'Albany', 'North Carolina': 'Raleigh',\n",
    "   'North Dakota': 'Bismarck', 'Ohio': 'Columbus', 'Oklahoma': 'Oklahoma City',\n",
    "   'Oregon': 'Salem', 'Pennsylvania': 'Harrisburg', 'Rhode Island': 'Providence',\n",
    "   'South Carolina': 'Columbia', 'South Dakota': 'Pierre', 'Tennessee':\n",
    "   'Nashville', 'Texas': 'Austin', 'Utah': 'Salt Lake City', 'Vermont':\n",
    "   'Montpelier', 'Virginia': 'Richmond', 'Washington': 'Olympia', 'WestVirginia': 'Charleston', 'Wisconsin': 'Madison', 'Wyoming': 'Cheyenne'}\n",
    "for quizNum in range(35):\n",
    "    quizFile = open('capitalsquiz%s.txt' % (quizNum + 1), 'w')\n",
    "    answerKeyFile = open('capitalsquiz_answers%s.txt' % (quizNum + 1), 'w')\n",
    "    quizFile.write('Name:\\n\\nDate:\\n\\nPeriod:\\n\\n')\n",
    "    quizFile.write((' ' * 20) + 'State Capitals Quiz (Form %s)' % (quizNum + 1))\n",
    "    quizFile.write('\\n\\n')\n",
    "    states = list(capitals.keys())\n",
    "    random.shuffle(states)\n",
    "    for questionNum in range(50):\n",
    "        correctAnswer = capitals[states[questionNum]]\n",
    "        wrongAnswers = list(capitals.values())\n",
    "        del wrongAnswers[wrongAnswers.index(correctAnswer)]\n",
    "        wrongAnswers = random.sample(wrongAnswers, 3)\n",
    "        answerOptions = wrongAnswers + [correctAnswer]\n",
    "        random.shuffle(answerOptions)\n",
    "        quizFile.write('%s. What is the capital of %s?\\n' % (questionNum + 1,states[questionNum]))\n",
    "        for i in range(4):\n",
    "            quizFile.write(' %s. %s\\n' % ('ABCD'[i], answerOptions[i]))\n",
    "            quizFile.write('\\n')\n",
    "            answerKeyFile.write('%s. %s\\n' % (questionNum + 1, 'ABCD'[answerOptions.index(correctAnswer)]))\n",
    "quizFile.close()\n",
    "answerKeyFile.close()\n",
    "\n",
    "            "
   ]
  },
  {
   "cell_type": "code",
   "execution_count": 13,
   "metadata": {},
   "outputs": [
    {
     "name": "stdout",
     "output_type": "stream",
     "text": [
      "Enter an ADJECTIVE: wine\n",
      "Enter an NOUN: wife\n",
      "Enter an VERB: you\n",
      "The ADJECTIVE panda walked to the NOUN and then VERB. A nearby NOUN was\n",
      "unaffected by these events.\n",
      "\n"
     ]
    }
   ],
   "source": [
    "\n",
    "import shelve, sys\n",
    "\n",
    "with shelve.open('madLibs_file') as my_file:\n",
    "    for word in ['ADJECTIVE', 'NOUN', 'VERB']:\n",
    "        my_file[word] = input('Enter an %s: ' % word)\n",
    "\n",
    "    with open('textfile.txt', 'r') as file:\n",
    "        for word in file.read().split(' |.'):\n",
    "            if word in list(my_file.keys()):\n",
    "                print(my_file[word])\n",
    "            else:\n",
    "                print(word)\n",
    "    file.close()\n",
    "my_file.close()\n"
   ]
  },
  {
   "cell_type": "code",
   "execution_count": null,
   "metadata": {},
   "outputs": [],
   "source": []
  },
  {
   "cell_type": "code",
   "execution_count": null,
   "metadata": {},
   "outputs": [],
   "source": []
  },
  {
   "cell_type": "code",
   "execution_count": null,
   "metadata": {},
   "outputs": [],
   "source": []
  },
  {
   "cell_type": "code",
   "execution_count": null,
   "metadata": {},
   "outputs": [],
   "source": []
  }
 ],
 "metadata": {
  "kernelspec": {
   "display_name": "Python 3",
   "language": "python",
   "name": "python3"
  },
  "language_info": {
   "codemirror_mode": {
    "name": "ipython",
    "version": 3
   },
   "file_extension": ".py",
   "mimetype": "text/x-python",
   "name": "python",
   "nbconvert_exporter": "python",
   "pygments_lexer": "ipython3",
   "version": "3.7.1"
  }
 },
 "nbformat": 4,
 "nbformat_minor": 2
}
