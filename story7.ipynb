{
 "cells": [
  {
   "cell_type": "code",
   "execution_count": 7,
   "metadata": {},
   "outputs": [
    {
     "name": "stderr",
     "output_type": "stream",
     "text": [
      "/home/xerous/anaconda3/envs/my_env/lib/python3.7/site-packages/ipykernel_launcher.py:3: DeprecationWarning: Call to deprecated function get_sheet_by_name (Use wb[sheetname]).\n",
      "  This is separate from the ipykernel package so we can avoid doing imports until\n"
     ]
    }
   ],
   "source": [
    "import openpyxl\n",
    "wb = openpyxl.load_workbook('updatedProduceSales.xlsx')\n",
    "sheet = wb.get_sheet_by_name('Sheet')\n",
    "\n",
    "# The produce types and their updated prices\n",
    "PRICE_UPDATES = {'Garlic': 3.07,\n",
    "                 'Celery': 1.19,\n",
    "                 'Lemon': 1.27}\n",
    "for rowNum in range(2, sheet.max_row):\n",
    "    produceName = sheet.cell(row=rowNum, column=1).value\n",
    "    if produceName in PRICE_UPDATES:\n",
    "        sheet.cell(row=rowNum, column=2).value = PRICE_UPDATES[produceName]\n",
    "wb.save('updatedProduceSales.xlsx')"
   ]
  },
  {
   "cell_type": "code",
   "execution_count": 10,
   "metadata": {},
   "outputs": [
    {
     "name": "stdout",
     "output_type": "stream",
     "text": [
      "3\n"
     ]
    }
   ],
   "source": [
    "import openpyxl, sys\n",
    "number = int(input())\n",
    "wb = openpyxl.Workbook()\n",
    "sheet = wb.active\n",
    "boldFont = openpyxl.styles.Font(bold=True)\n",
    "for rowNum in range(1, number+2):\n",
    "    for colNum in range(1, number+2):\n",
    "        if rowNum==1 and colNum==1:\n",
    "            sheet.cell(row=rowNum, column=colNum).value=''\n",
    "        elif rowNum==1:\n",
    "            sheet.cell(row=rowNum, column=colNum).value = colNum-1\n",
    "            sheet.cell(row=rowNum, column=colNum).font = boldFont\n",
    "        elif colNum==1:\n",
    "            sheet.cell(row=rowNum, column=colNum).value=rowNum-1\n",
    "            sheet.cell(row=rowNum, column=colNum).font = boldFont\n",
    "        else:\n",
    "            sheet.cell(row=rowNum, column=colNum).value = (rowNum-1)*(colNum-1)\n",
    "wb.save('table_{0}.xlsx'.format(number))"
   ]
  },
  {
   "cell_type": "code",
   "execution_count": 16,
   "metadata": {},
   "outputs": [
    {
     "name": "stderr",
     "output_type": "stream",
     "text": [
      "/home/xerous/anaconda3/envs/my_env/lib/python3.7/site-packages/ipykernel_launcher.py:3: DeprecationWarning: Call to deprecated function get_sheet_by_name (Use wb[sheetname]).\n",
      "  This is separate from the ipykernel package so we can avoid doing imports until\n"
     ]
    },
    {
     "name": "stdout",
     "output_type": "stream",
     "text": [
      "1\n",
      "1\n"
     ]
    }
   ],
   "source": [
    "import openpyxl\n",
    "wb = openpyxl.load_workbook('table_3.xlsx')\n",
    "inputSheet = wb.get_sheet_by_name('Sheet')\n",
    "n = int(input())\n",
    "m = int(input())\n",
    "for rowNum in range(1, sheet.max_row+1):\n",
    "    for colNum in range(1, inputSheet.max_column + 1):\n",
    "        if rowNum<m:\n",
    "            inputSheet.cell(row=rowNum, column=colNum).value = inputSheet.cell(row=rowNum, column=colNum).value\n",
    "        else:\n",
    "            inputSheet.cell(row=rowNum+n, column=colNum).value = inputSheet.cell(row=rowNum, column=colNum).value\n",
    "wb.save('table_3.xlsx')"
   ]
  },
  {
   "cell_type": "code",
   "execution_count": null,
   "metadata": {},
   "outputs": [],
   "source": []
  }
 ],
 "metadata": {
  "kernelspec": {
   "display_name": "Python 3",
   "language": "python",
   "name": "python3"
  },
  "language_info": {
   "codemirror_mode": {
    "name": "ipython",
    "version": 3
   },
   "file_extension": ".py",
   "mimetype": "text/x-python",
   "name": "python",
   "nbconvert_exporter": "python",
   "pygments_lexer": "ipython3",
   "version": "3.7.1"
  }
 },
 "nbformat": 4,
 "nbformat_minor": 2
}
